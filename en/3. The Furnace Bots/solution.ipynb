{
 "cells": [
  {
   "cell_type": "code",
   "execution_count": null,
   "metadata": {
    "collapsed": true
   },
   "outputs": [],
   "source": [
    "from bots import bots"
   ]
  },
  {
   "cell_type": "markdown",
   "metadata": {
    "pycharm": {
     "name": "#%% md\n"
    }
   },
   "source": [
    "# Solution with a while loop\n",
    "This solution is (almost always) the fasted solution."
   ]
  },
  {
   "cell_type": "code",
   "execution_count": null,
   "metadata": {
    "pycharm": {
     "name": "#%%\n"
    }
   },
   "outputs": [],
   "source": [
    "serial = 1\n",
    "furnace = None\n",
    "while furnace != 0:\n",
    "    bot = bots.check_bot(serial)\n",
    "    print(bot)\n",
    "    serial = bot.furnace_number\n",
    "    furnace = bot.furnace_number\n",
    "bot"
   ]
  },
  {
   "cell_type": "markdown",
   "source": [
    "# Solution with a for loop\n",
    "This solution is almost always much slower then the while loop. It is only faster if the original bot is encountered early in the loop. With larger numbers of bots this becomes very improbable."
   ],
   "metadata": {
    "collapsed": false
   }
  },
  {
   "cell_type": "code",
   "execution_count": null,
   "outputs": [],
   "source": [
    "for bot in bots:\n",
    "    print(bot)\n",
    "    if bot.furnace_number == 0:\n",
    "        break\n",
    "bot"
   ],
   "metadata": {
    "collapsed": false,
    "pycharm": {
     "name": "#%%\n"
    }
   }
  },
  {
   "cell_type": "markdown",
   "source": [],
   "metadata": {
    "collapsed": false
   }
  },
  {
   "cell_type": "markdown",
   "metadata": {},
   "source": []
  },
  {
   "cell_type": "code",
   "execution_count": null,
   "metadata": {
    "pycharm": {
     "name": "#%%\n"
    }
   },
   "outputs": [],
   "source": [
    "for bot in bots:\n",
    "    print(bot)\n",
    "    if bot.furnace_number == 0:\n",
    "        break\n",
    "bot"
   ]
  },
  {
   "cell_type": "markdown",
   "metadata": {},
   "source": []
  }
 ],
 "metadata": {
  "kernelspec": {
   "display_name": "Python 3",
   "language": "python",
   "name": "python3"
  },
  "language_info": {
   "codemirror_mode": {
    "name": "ipython",
    "version": 3
   },
   "file_extension": ".py",
   "mimetype": "text/x-python",
   "name": "python",
   "nbconvert_exporter": "python",
   "pygments_lexer": "ipython3",
   "version": "3.7.4"
  }
 },
 "nbformat": 4,
 "nbformat_minor": 1
}