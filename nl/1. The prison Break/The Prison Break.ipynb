{
 "cells": [
  {
   "cell_type": "code",
   "execution_count": 1,
   "metadata": {},
   "outputs": [],
   "source": [
    "from Slot import Slot\n",
    "from IPython.display import YouTubeVideo"
   ]
  },
  {
   "cell_type": "markdown",
   "metadata": {},
   "source": [
    "# The Prison Break\n"
   ]
  },
  {
   "cell_type": "code",
   "execution_count": 5,
   "metadata": {},
   "outputs": [
    {
     "data": {
      "image/jpeg": "[encoded data removed]",
      "text/html": [
       "\n",
       "        <iframe\n",
       "            width=\"560\"\n",
       "            height=\"315\"\n",
       "            src=\"https://www.youtube.com/embed/KFVdHDMcepw\"\n",
       "            frameborder=\"0\"\n",
       "            allowfullscreen\n",
       "        ></iframe>\n",
       "        "
      ],
      "text/plain": [
       "<IPython.lib.display.YouTubeVideo at 0x156811661c8>"
      ]
     },
     "execution_count": 5,
     "metadata": {},
     "output_type": "execute_result"
    }
   ],
   "source": [
    "YouTubeVideo(id=\"KFVdHDMcepw\",width=\"560\", height=\"315\")"
   ]
  },
  {
   "cell_type": "markdown",
   "metadata": {},
   "source": [
    "\n",
    "\n",
    "## Hedge kan:\n",
    "**De schijf draaien**:\n",
    "```python\n",
    "hoeveel_stappen_verder = 4\n",
    "slot.draai_schijf(hoeveel_stappen_verder)\n",
    "```\n",
    "**De kleur van het slot bekijken**:\n",
    "```python\n",
    "kleur = slot.bekijk_kleur()\n",
    "```\n",
    "Output:\n",
    "```text\n",
    "rood\n",
    "```\n",
    "\n",
    "**De stand van de schijf bekijken**:\n",
    "```python\n",
    "positie = slot.bekijk_stand()\n",
    "print(positie)\n",
    "```\n",
    "Output:\n",
    "```text\n",
    "1\n",
    "```\n",
    "\n",
    "**Het slot openen**:\n",
    "```python\n",
    "slot.open()\n",
    "```\n",
    "Output:\n",
    "```text\n",
    "Het slot opent.\n",
    "```\n",
    "\n",
    "**Waarden weergeven**\n",
    "Hedge kan van alles printen (op het scherm laten zien). Dit helpt je om te zien\n",
    " welke informatie Hedge heeft tijdens het programma\n",
    "```python\n",
    "print(f\"De kleur van het slot is: {slot.bekijk_kleur()}\")\n",
    "```\n",
    "Output:\n",
    "```text\n",
    "De kleur van het slot is: rood\n",
    "```\n",
    "\n",
    "## Hoe werkt een loop?\n",
    "Een loop bestaad uit twee delen:\n",
    "1. Het loop-statement\n",
    "Dit bepaald wanneer de loop moet stoppen. Na bepaald aantal keer, als alles van de reeks bekeken is, als aan een bepaalde voorwaarde voldaan wordt.\n",
    "2. Het code-block\n",
    "Dit is de code die uitgevoerd word voor elke loop.\n",
    "\n",
    "In de video worden 3 soorten loops aangegeven:\n",
    "1. herhaal n keer\n",
    "In python is dit een _for_-loop\n",
    "2. herhaal tot aan deze voorwaarde voldaan wordt\n",
    "Deze bestaat niet in python\n",
    "3. herhaal zolang aan deze voorwaarde voldaan wordt\n",
    "In python is dit een _while_-loop\n",
    "\n",
    "### For-loop\n",
    "Een for-loop voert insturcties uit voor elk element in een reeks.\n",
    "Het loop-statement ziet er zo uit\n",
    "```python\n",
    "for element in reeks:\n",
    "```\n",
    "We gebruiken het woord _for_ om aan te geven dat het een for-loop is. Daarna maken we een variabele waarin steeds het\n",
    "volgende element wordt bewaard, elke keer dat we het code-block uitvoeren is de waarde van de variabele dus anders.\n",
    "De naam van de variabele mag je zelf kiezen.\n",
    "Vervolgens gebruiken we het woord _in_ om aan te geven van welke reeks we alle elementen gaan bekijken. Als laatste\n",
    "gebruiken we de variabele waar de de reeks in hebben bewaard. Ook de naam van deze variabele mag je zelf kiezen, maar\n",
    "het moet natuurlijk wel de variabele zijn waar we eerder een reeks in hebben gestopt.\n",
    "\n",
    "#### Range\n",
    "De reeks kan ook een _range_ zijn. Een range is een commando om op een makkelijke manier een reeks van getallen te maken.\n",
    "Het commando heeft twee argumenten: `range(a,b)`, a is geeft aan waar de reeks begint en b geeft aan waar de reeks moet\n",
    "stoppen.\n",
    " **Pas wel op, b zit zelf niet in de reeks!**\n",
    "\n",
    "```python\n",
    "for element in range(1, 5):\n",
    "    print(element)\n",
    "```\n",
    "Output:\n",
    "```text\n",
    "1\n",
    "2\n",
    "3\n",
    "4\n",
    "```\n",
    "\n",
    "Je kan ook maar 1 argument meegeven aan `range`. Dan begint de reeks bij 0.\n",
    "```python\n",
    "for element in range(5):\n",
    "    print(element)\n",
    "```\n",
    "Output:\n",
    "```text\n",
    "0\n",
    "1\n",
    "2\n",
    "3\n",
    "4\n",
    "```\n",
    "\n",
    "### While-loop\n",
    "Deze while-loop loopt zolang de teller kleiner is dan vijf. Elke keer in de loop verandert de waarde van de teller.\n",
    "Wanneer de teller niet meer kleiner is dan vijf, dus als de teller vijf of meer is, stop de loop. De voorwaarde hoeft\n",
    "natuurlijk niet perse een teller te zijn, maar kan ook een andere voorwaarde zijn.\n",
    "```python\n",
    "teller = 0\n",
    "while teller < 5:\n",
    "    print(teller)\n",
    "    teller = teller + 1\n",
    "```\n",
    "Output:\n",
    "```text\n",
    "0\n",
    "1\n",
    "2\n",
    "3\n",
    "4\n",
    "```\n",
    "#### How to check values\n",
    "| Operator | Description               |\n",
    "|----------|---------------------------|\n",
    "| ==       | Is gelijk aan             |\n",
    "| !=       | Is niet gelijk aan        |\n",
    "| <        | Kleiner dan               |\n",
    "| >        | Groter dan                |\n",
    "| <=       | Kleiner dan of gelijk aan |\n",
    "| >=       | Groter dan of gelijk aan  |"
   ]
  },
  {
   "cell_type": "markdown",
   "metadata": {},
   "source": [
    "# Programmeer Hedge in de cell hieronder\n",
    "\n",
    "Hieronder zie je het slot dat Hedge tegenkomt. Je kan de instructies gebruiken die hierboven beschreven staan.\n",
    "Om je code uit te voeren druk je op de _play_-knop (⏵) of gebruik je de snel toets Ctrl+Enter"
   ]
  },
  {
   "cell_type": "code",
   "execution_count": 4,
   "metadata": {
    "pycharm": {
     "name": "#%%\n"
    }
   },
   "outputs": [
    {
     "name": "stdout",
     "output_type": "stream",
     "text": [
      "kleur: rood, positie: 1\n"
     ]
    }
   ],
   "source": [
    "slot = Slot()\n",
    "print(slot)\n"
   ]
  }
 ],
 "metadata": {
  "kernelspec": {
   "display_name": "Python 3 (ipykernel)",
   "language": "python",
   "name": "python3"
  },
  "language_info": {
   "codemirror_mode": {
    "name": "ipython",
    "version": 3
   },
   "file_extension": ".py",
   "mimetype": "text/x-python",
   "name": "python",
   "nbconvert_exporter": "python",
   "pygments_lexer": "ipython3",
   "version": "3.9.7"
  }
 },
 "nbformat": 4,
 "nbformat_minor": 1
}