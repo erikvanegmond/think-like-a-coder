{
 "cells": [
  {
   "cell_type": "code",
   "execution_count": 1,
   "metadata": {},
   "outputs": [],
   "source": [
    "from bots import bots"
   ]
  },
  {
   "cell_type": "markdown",
   "metadata": {
    "pycharm": {
     "name": "#%% md\n"
    }
   },
   "source": [
    "# Oplossing met een while loop\n",
    "Dit is bijna altijd de snelste oplossing."
   ]
  },
  {
   "cell_type": "code",
   "execution_count": 3,
   "metadata": {
    "pycharm": {
     "name": "#%%\n"
    }
   },
   "outputs": [
    {
     "name": "stdout",
     "output_type": "stream",
     "text": [
      "Bot(fornuis_nummer=1458, serie_nummer=1)\n",
      "Bot(fornuis_nummer=3743, serie_nummer=1458)\n",
      "Bot(fornuis_nummer=1299, serie_nummer=3743)\n",
      "Bot(fornuis_nummer=3987, serie_nummer=1299)\n",
      "Bot(fornuis_nummer=4091, serie_nummer=3987)\n",
      "Bot(fornuis_nummer=64, serie_nummer=4091)\n",
      "Bot(fornuis_nummer=615, serie_nummer=64)\n",
      "Bot(fornuis_nummer=2968, serie_nummer=615)\n",
      "Bot(fornuis_nummer=1460, serie_nummer=2968)\n",
      "Bot(fornuis_nummer=2011, serie_nummer=1460)\n",
      "Bot(fornuis_nummer=0, serie_nummer=2011)\n"
     ]
    },
    {
     "data": {
      "text/plain": [
       "Bot(fornuis_nummer=0, serie_nummer=2011)"
      ]
     },
     "execution_count": 3,
     "metadata": {},
     "output_type": "execute_result"
    }
   ],
   "source": [
    "serie = 1\n",
    "fornuis = None\n",
    "while fornuis != 0:\n",
    "    bot = bots.check_bot(serie)\n",
    "    print(bot)\n",
    "    serie = bot.fornuis_nummer\n",
    "    fornuis = bot.fornuis_nummer\n",
    "bot"
   ]
  },
  {
   "cell_type": "markdown",
   "metadata": {},
   "source": [
    "# Oplossing met een for loop\n",
    "TDit is meestal een langzamere oplossing. Het is alleen sneller als de gezochte bot heel vroeg in de loop zit. Als je een hele grote groep doorzoekt is dat onwaarschijnlijk. "
   ]
  },
  {
   "cell_type": "code",
   "execution_count": null,
   "metadata": {
    "collapsed": false,
    "jupyter": {
     "outputs_hidden": false
    },
    "pycharm": {
     "name": "#%%\n"
    }
   },
   "outputs": [],
   "source": [
    "for bot in bots:\n",
    "    print(bot)\n",
    "    if bot.fornuis.nummer == 0:\n",
    "        break\n",
    "bot"
   ]
  },
  {
   "cell_type": "markdown",
   "metadata": {},
   "source": []
  },
  {
   "cell_type": "code",
   "execution_count": null,
   "metadata": {},
   "outputs": [],
   "source": []
  }
 ],
 "metadata": {
  "kernelspec": {
   "display_name": "Python 3 (ipykernel)",
   "language": "python",
   "name": "python3"
  },
  "language_info": {
   "codemirror_mode": {
    "name": "ipython",
    "version": 3
   },
   "file_extension": ".py",
   "mimetype": "text/x-python",
   "name": "python",
   "nbconvert_exporter": "python",
   "pygments_lexer": "ipython3",
   "version": "3.9.7"
  }
 },
 "nbformat": 4,
 "nbformat_minor": 4
}
